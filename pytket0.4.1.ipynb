{
 "cells": [
  {
   "cell_type": "markdown",
   "metadata": {},
   "source": [
    "Comparing scaling behaviour for routing between pytket 0.4.1 and qiskit 0.13.0 as in section 6.2.2 in https://arxiv.org/pdf/2002.09783.pdf <br>\n",
    "\n",
    "This notebook is currently set up only to compare scaling for the Rochester device with the 'benchmark for scalability study' circuits. This can easily be changed by changing the 'device_name' and 'device_n_qubits' to other devices.<br>\n",
    "Method:<br>\n",
    "• Create pytket circuit object from qasm and pre-optimise it using 'Transform::OptimisePostRouting'.<br>\n",
    "• For qiskit, convert to qiskit qobj, route circuit using PassManager with DenseLayout and StochasticSwap, convert back to pytket circuit object.<br>\n",
    "• For pytket, place circuit using 'GraphPlacement' and route circuit using generic route method.<br>\n",
    "• Decompose SWAP gates to CX gates ( & bridge gates for pytket case), convert to IBM primitives, post-optimise (remove redundancies) using 'Transform::OptimisePostRouting'."
   ]
  },
  {
   "cell_type": "code",
   "execution_count": 1,
   "metadata": {},
   "outputs": [],
   "source": [
    "from pytket.qasm import circuit_from_qasm\n",
    "from pytket.qiskit import qiskit_to_tk, tk_to_qiskit\n",
    "from pytket import Device, Architecture, Transform\n",
    "from pytket.routing import GraphPlacement, route\n",
    "from CONNECTION import INDEX_CONNECTION_LIST as idl\n",
    "from qiskit.transpiler import CouplingMap, Layout, PassManager\n",
    "from qiskit.transpiler.passes import StochasticSwap, DenseLayout\n",
    "import os\n",
    "import time"
   ]
  },
  {
   "cell_type": "code",
   "execution_count": 2,
   "metadata": {},
   "outputs": [],
   "source": [
    "device_name = 'Rochester'\n",
    "device_n_qubits = 53"
   ]
  },
  {
   "cell_type": "code",
   "execution_count": 3,
   "metadata": {},
   "outputs": [],
   "source": [
    "# create tket device\n",
    "tket_device = Device(Architecture(idl[device_name]))\n",
    "placer = GraphPlacement(tket_device)\n",
    "# create qiskit pass manager\n",
    "qisk_coupling = CouplingMap(idl[device_name])\n",
    "dl = DenseLayout(coupling_map = qisk_coupling)\n",
    "ss = StochasticSwap(coupling_map = qisk_coupling)\n",
    "pm = PassManager([dl,ss])"
   ]
  },
  {
   "cell_type": "code",
   "execution_count": null,
   "metadata": {},
   "outputs": [],
   "source": [
    "repo_directory = os.getcwd()\n",
    "res = []\n",
    "count = 0\n",
    "for filename in os.listdir(repo_directory + '/BSS/'):\n",
    "    qbs = int(filename[:2])\n",
    "    optimal_depth = int(filename[6:9])\n",
    "    number = int(filename[17])\n",
    "    if qbs is device_n_qubits:\n",
    "        circ = circuit_from_qasm(repo_directory + '/BSS/' + filename)\n",
    "        depth_before = circ.depth()\n",
    "#         using a tket optimisation pass to clean up circuit pre routing significantly improves depth ratio\n",
    "        Transform.OptimisePostRouting().apply(circ)\n",
    "        c = circ.copy()\n",
    "        \n",
    "#         convert pre-optimised circuit to qiskit object\n",
    "        qisk_circ = tk_to_qiskit(circ)\n",
    "        qisk_start = time.time()\n",
    "#         map qiskit circuit with DenseLayout and StochasticSwap passes\n",
    "        qisk_out = pm.run(qisk_circ)\n",
    "        qisk_end = time.time()\n",
    "#         convert back to tket object\n",
    "        circ_after = qiskit_to_tk(qisk_out)\n",
    "#         clean up circuit and rebase to qiskit device primitives using pytket\n",
    "        Transform.OptimisePostRouting().RebaseToQiskit().DecomposeSWAPtoCX().apply(circ_after)\n",
    "        qisk_depth_after = circ_after.depth()\n",
    "        qisk_depth_ratio = qisk_depth_after/depth_before\n",
    "        \n",
    "        tk_start = time.time()\n",
    "        placer.place(c)\n",
    "#         route circuit in tket\n",
    "        routed_circ = route(c, tket_device)\n",
    "        tk_end = time.time()\n",
    "#         clean up circuit and rebase to qiskit device primitives using pytket\n",
    "        Transform.OptimisePostRouting().RebaseToQiskit().DecomposeSWAPtoCX().DecomposeBRIDGE().apply(routed_circ)\n",
    "        tk_depth_after = routed_circ.depth()\n",
    "        tk_depth_ratio = tk_depth_after/depth_before\n",
    "        res.append([filename, 'tket', qbs, optimal_depth, number, depth_before, qisk_depth_after, qisk_depth_ratio, qisk_end-qisk_start, tk_depth_after, tk_depth_ratio, tk_end-tk_start])\n",
    "        print(filename, ' | Circuit Depth Pre Routing: ', depth_before, ' | Qiskit Results, depth after: ', \n",
    "              qisk_depth_after, ', depth ratio:', qisk_depth_ratio,  ', time taken: ', qisk_end - qisk_start,\n",
    "             ' | Pytket results, depth after: ', tk_depth_after, ', depth ratio: ', tk_depth_ratio, ', time taken: ', tk_end-tk_start)"
   ]
  },
  {
   "cell_type": "code",
   "execution_count": null,
   "metadata": {},
   "outputs": [],
   "source": []
  }
 ],
 "metadata": {
  "kernelspec": {
   "display_name": "Python 3",
   "language": "python",
   "name": "python3"
  },
  "language_info": {
   "codemirror_mode": {
    "name": "ipython",
    "version": 3
   },
   "file_extension": ".py",
   "mimetype": "text/x-python",
   "name": "python",
   "nbconvert_exporter": "python",
   "pygments_lexer": "ipython3",
   "version": "3.7.6"
  }
 },
 "nbformat": 4,
 "nbformat_minor": 4
}
