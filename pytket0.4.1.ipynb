{
 "cells": [
  {
   "cell_type": "markdown",
   "metadata": {},
   "source": [
    "Comparing scaling behaviour for routing between pytket 0.4.1 and qiskit 0.13.0 as in section 6.2.2 in https://arxiv.org/pdf/2002.09783.pdf <br>\n",
    "\n",
    "This notebook is currently set up only to compare scaling for the Rochester device with the 'benchmark for scalability study' circuits. This can easily be changed by changing the 'device_name' and 'device_n_qubits' to other devices.<br>\n",
    "Method:<br>\n",
    "• Create pytket circuit object from qasm and pre-optimise it using 'Transform::OptimisePostRouting'.<br>\n",
    "• For qiskit, convert to qiskit qobj, route circuit using PassManager with DenseLayout and StochasticSwap, convert back to pytket circuit object.<br>\n",
    "• For pytket, place circuit using 'GraphPlacement' and route circuit using generic route method.<br>\n",
    "• Decompose SWAP gates to CX gates ( & bridge gates for pytket case), convert to IBM primitives, post-optimise (remove redundancies) using 'Transform::OptimisePostRouting'.<br>\n",
    "• Compare depth of input and output circuits."
   ]
  },
  {
   "cell_type": "code",
   "execution_count": 2,
   "metadata": {},
   "outputs": [],
   "source": [
    "from pytket.qasm import circuit_from_qasm\n",
    "from pytket.qiskit import qiskit_to_tk, tk_to_qiskit\n",
    "from pytket import Device, Architecture, Transform\n",
    "from pytket.routing import GraphPlacement, route\n",
    "from CONNECTION import INDEX_CONNECTION_LIST as idl\n",
    "from qiskit.transpiler import CouplingMap, Layout, PassManager\n",
    "from qiskit.transpiler.passes import StochasticSwap, DenseLayout\n",
    "import os\n",
    "import time"
   ]
  },
  {
   "cell_type": "code",
   "execution_count": 3,
   "metadata": {},
   "outputs": [],
   "source": [
    "device_name = 'Rochester'\n",
    "device_n_qubits = 53"
   ]
  },
  {
   "cell_type": "code",
   "execution_count": 4,
   "metadata": {},
   "outputs": [],
   "source": [
    "# create tket device\n",
    "tket_device = Device(Architecture(idl[device_name]))\n",
    "placer = GraphPlacement(tket_device)\n",
    "placer.modify_config(**dict(depth_limit = 30))\n",
    "# create qiskit pass manager\n",
    "qisk_coupling = CouplingMap(idl[device_name])\n",
    "dl = DenseLayout(coupling_map = qisk_coupling)\n",
    "ss = StochasticSwap(coupling_map = qisk_coupling)\n",
    "pm = PassManager([dl,ss])"
   ]
  },
  {
   "cell_type": "code",
   "execution_count": null,
   "metadata": {},
   "outputs": [
    {
     "name": "stdout",
     "output_type": "stream",
     "text": [
      "53QBT_600CYC_QSE_5.qasm  | Circuit Depth Pre Routing:  600  | Qiskit Results, depth after:  5563 , depth ratio: 9.271666666666667 , time taken:  111.56923913955688  | Pytket results, depth after:  600 , depth ratio:  1.0 , time taken:  0.2707540988922119\n",
      "53QBT_100CYC_QSE_4.qasm  | Circuit Depth Pre Routing:  100  | Qiskit Results, depth after:  1341 , depth ratio: 13.41 , time taken:  23.967076063156128  | Pytket results, depth after:  100 , depth ratio:  1.0 , time taken:  0.05911993980407715\n",
      "53QBT_300CYC_QSE_6.qasm  | Circuit Depth Pre Routing:  300  | Qiskit Results, depth after:  3426 , depth ratio: 11.42 , time taken:  63.108272075653076  | Pytket results, depth after:  300 , depth ratio:  1.0 , time taken:  0.17036700248718262\n",
      "53QBT_400CYC_QSE_7.qasm  | Circuit Depth Pre Routing:  400  | Qiskit Results, depth after:  4018 , depth ratio: 10.045 , time taken:  76.80331897735596  | Pytket results, depth after:  400 , depth ratio:  1.0 , time taken:  0.1659259796142578\n",
      "53QBT_700CYC_QSE_2.qasm  | Circuit Depth Pre Routing:  700  | Qiskit Results, depth after:  8271 , depth ratio: 11.815714285714286 , time taken:  137.17062664031982  | Pytket results, depth after:  700 , depth ratio:  1.0 , time taken:  0.3012251853942871\n",
      "53QBT_900CYC_QSE_9.qasm  | Circuit Depth Pre Routing:  900  | Qiskit Results, depth after:  9231 , depth ratio: 10.256666666666666 , time taken:  175.5286180973053  | Pytket results, depth after:  900 , depth ratio:  1.0 , time taken:  0.4114842414855957\n",
      "53QBT_500CYC_QSE_0.qasm  | Circuit Depth Pre Routing:  500  | Qiskit Results, depth after:  5420 , depth ratio: 10.84 , time taken:  111.05629205703735  | Pytket results, depth after:  500 , depth ratio:  1.0 , time taken:  0.2230978012084961\n"
     ]
    }
   ],
   "source": [
    "repo_directory = os.getcwd()\n",
    "res = []\n",
    "count = 0\n",
    "for filename in os.listdir(repo_directory + '/BSS/'):\n",
    "    qbs = int(filename[:2])\n",
    "    optimal_depth = int(filename[6:9])\n",
    "    number = int(filename[17])\n",
    "    if qbs is device_n_qubits:\n",
    "        circ = circuit_from_qasm(repo_directory + '/BSS/' + filename)\n",
    "        depth_before = circ.depth()\n",
    "#         using a tket optimisation pass to clean up circuit pre routing significantly improves depth ratio\n",
    "#         Transform.OptimisePostRouting().apply(circ)\n",
    "        c = circ.copy()\n",
    "        \n",
    "#         convert pre-optimised circuit to qiskit object\n",
    "        qisk_circ = tk_to_qiskit(circ)\n",
    "        qisk_start = time.time()\n",
    "#         map qiskit circuit with DenseLayout and StochasticSwap passes\n",
    "        qisk_out = pm.run(qisk_circ)\n",
    "        qisk_end = time.time()\n",
    "#         convert back to tket object\n",
    "        circ_after = qiskit_to_tk(qisk_out)\n",
    "#         clean up circuit and rebase to qiskit device primitives using pytket\n",
    "        Transform.RebaseToQiskit().DecomposeSWAPtoCX().apply(circ_after)\n",
    "        qisk_depth_after = circ_after.depth()\n",
    "        qisk_depth_ratio = qisk_depth_after/depth_before\n",
    "        \n",
    "        tk_start = time.time()\n",
    "        placer.place(c)\n",
    "#         route circuit in tket\n",
    "        routed_circ = route(c, tket_device)\n",
    "        tk_end = time.time()\n",
    "#         clean up circuit and rebase to qiskit device primitives using pytket\n",
    "        Transform.RebaseToQiskit().DecomposeSWAPtoCX().DecomposeBRIDGE().apply(routed_circ)\n",
    "        tk_depth_after = routed_circ.depth()\n",
    "        tk_depth_ratio = tk_depth_after/depth_before\n",
    "        res.append([filename, 'tket', qbs, optimal_depth, number, depth_before, qisk_depth_after, qisk_depth_ratio, qisk_end-qisk_start, tk_depth_after, tk_depth_ratio, tk_end-tk_start])\n",
    "        print(filename, ' | Circuit Depth Pre Routing: ', depth_before, ' | Qiskit Results, depth after: ', \n",
    "              qisk_depth_after, ', depth ratio:', qisk_depth_ratio,  ', time taken: ', qisk_end - qisk_start,\n",
    "             ' | Pytket results, depth after: ', tk_depth_after, ', depth ratio: ', tk_depth_ratio, ', time taken: ', tk_end-tk_start)"
   ]
  },
  {
   "cell_type": "code",
   "execution_count": null,
   "metadata": {},
   "outputs": [],
   "source": []
  }
 ],
 "metadata": {
  "kernelspec": {
   "display_name": "Python 3",
   "language": "python",
   "name": "python3"
  },
  "language_info": {
   "codemirror_mode": {
    "name": "ipython",
    "version": 3
   },
   "file_extension": ".py",
   "mimetype": "text/x-python",
   "name": "python",
   "nbconvert_exporter": "python",
   "pygments_lexer": "ipython3",
   "version": "3.7.6"
  }
 },
 "nbformat": 4,
 "nbformat_minor": 4
}
